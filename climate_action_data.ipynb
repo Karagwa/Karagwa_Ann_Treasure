{
 "cells": [
  {
   "cell_type": "code",
   "execution_count": null,
   "id": "09c7a543",
   "metadata": {},
   "outputs": [],
   "source": [
    "# Climate Action Data Analysis and Cleaning\n",
    "# Objectives\n",
    "# 1. Load the dataset 'climate_action_data.csv' into a Pandas DataFrame.\n",
    "# 2. Inspect the dataset for structure, data types, missing values, duplicates, and erroneous entries.\n",
    "# 3. Clean the dataset by:\n",
    "#    - Removing duplicate records.\n",
    "#    - Replacing erroneous values (e.g., 'error') with NaN.\n",
    "#    - Handling missing values logically (e.g., filling with mean/median or dropping if necessary).\n",
    "# 4. Convert columns to correct data types for accurate analysis.\n",
    "# 5. Generate descriptive statistics to understand the central tendency and spread of numeric variables.\n",
    "# 6. Visualize distributions using histograms for key features like temperature, soil moisture, and pH.\n",
    "# 7. Create a correlation heatmap to identify relationships between environmental variables.\n",
    "# 8. Identify features that most influence fertilizer recommendations/\n",
    "# 9. Determine the crop type with the highest average soil moisture.\n",
    "# 10. Suggest irrigation adjustments for crops with average temperatures above 30°C.\n",
    "# 11. Save the cleaned dataset as 'cleaned_precision_agriculture_data.csv' for future use.\n",
    "\n"
   ]
  },
  {
   "cell_type": "code",
   "execution_count": 1,
   "id": "613dc144",
   "metadata": {},
   "outputs": [],
   "source": [
    "# Import necessary libraries\n",
    "import pandas as pd\n",
    "import matplotlib.pyplot as plt\n",
    "import numpy as np  \n",
    "import seaborn as sns\n",
    "from datetime import datetime"
   ]
  },
  {
   "cell_type": "code",
   "execution_count": null,
   "id": "b29448ad",
   "metadata": {},
   "outputs": [],
   "source": [
    "# Your task is to load this dataset into a Pandas DataFrame\\\n",
    "    # and conduct a thorough data inspection to identify the structure, missing values, and data types"
   ]
  },
  {
   "cell_type": "code",
   "execution_count": 51,
   "id": "ed5d6c98",
   "metadata": {},
   "outputs": [
    {
     "name": "stdout",
     "output_type": "stream",
     "text": [
      "Dataset Structure:\n",
      "<class 'pandas.core.frame.DataFrame'>\n",
      "RangeIndex: 913 entries, 0 to 912\n",
      "Data columns (total 10 columns):\n",
      " #   Column                         Non-Null Count  Dtype \n",
      "---  ------                         --------------  ----- \n",
      " 0   Sensor_ID                      913 non-null    object\n",
      " 1   Date                           909 non-null    object\n",
      " 2   Soil_Moisture(%)               913 non-null    object\n",
      " 3   Soil_pH                        913 non-null    object\n",
      " 4   Temperature(C)                 913 non-null    object\n",
      " 5   Humidity(%)                    913 non-null    object\n",
      " 6   Crop_Type                      909 non-null    object\n",
      " 7   Fertilizer_Recommended(kg/ha)  913 non-null    object\n",
      " 8   Irrigation_Recommended(mm)     913 non-null    object\n",
      " 9   Drone_Image_ID                 913 non-null    object\n",
      "dtypes: object(10)\n",
      "memory usage: 71.5+ KB\n",
      "None\n",
      "Dataframe shape: (913, 10)\n"
     ]
    }
   ],
   "source": [
    "# Load the dataset\n",
    "df = pd.read_csv('climate_action_data.csv')\n",
    "# Inspect the dataset\n",
    "print(\"Dataset Structure:\")\n",
    "print(df.info())\n",
    "print(\"Dataframe shape:\", df.shape)\n"
   ]
  },
  {
   "cell_type": "code",
   "execution_count": 9,
   "id": "30cc6d0e",
   "metadata": {},
   "outputs": [
    {
     "data": {
      "text/html": [
       "<div>\n",
       "<style scoped>\n",
       "    .dataframe tbody tr th:only-of-type {\n",
       "        vertical-align: middle;\n",
       "    }\n",
       "\n",
       "    .dataframe tbody tr th {\n",
       "        vertical-align: top;\n",
       "    }\n",
       "\n",
       "    .dataframe thead th {\n",
       "        text-align: right;\n",
       "    }\n",
       "</style>\n",
       "<table border=\"1\" class=\"dataframe\">\n",
       "  <thead>\n",
       "    <tr style=\"text-align: right;\">\n",
       "      <th></th>\n",
       "      <th>Sensor_ID</th>\n",
       "      <th>Date</th>\n",
       "      <th>Soil_Moisture(%)</th>\n",
       "      <th>Soil_pH</th>\n",
       "      <th>Temperature(C)</th>\n",
       "      <th>Humidity(%)</th>\n",
       "      <th>Crop_Type</th>\n",
       "      <th>Fertilizer_Recommended(kg/ha)</th>\n",
       "      <th>Irrigation_Recommended(mm)</th>\n",
       "      <th>Drone_Image_ID</th>\n",
       "    </tr>\n",
       "  </thead>\n",
       "  <tbody>\n",
       "    <tr>\n",
       "      <th>0</th>\n",
       "      <td>SEN-1000</td>\n",
       "      <td>2025-01-01</td>\n",
       "      <td>36.22</td>\n",
       "      <td>6.98</td>\n",
       "      <td>21.3</td>\n",
       "      <td>50.4</td>\n",
       "      <td>Tomatoes</td>\n",
       "      <td>67.6</td>\n",
       "      <td>26.6</td>\n",
       "      <td>IMG-2000</td>\n",
       "    </tr>\n",
       "    <tr>\n",
       "      <th>1</th>\n",
       "      <td>SEN-1001</td>\n",
       "      <td>2025-01-02</td>\n",
       "      <td>76.55</td>\n",
       "      <td>5.03</td>\n",
       "      <td>23.5</td>\n",
       "      <td>34.3</td>\n",
       "      <td>Wheat</td>\n",
       "      <td>130.4</td>\n",
       "      <td>8.3</td>\n",
       "      <td>IMG-2001</td>\n",
       "    </tr>\n",
       "    <tr>\n",
       "      <th>2</th>\n",
       "      <td>SEN-1002</td>\n",
       "      <td>2025-01-03</td>\n",
       "      <td>61.24</td>\n",
       "      <td>6.52</td>\n",
       "      <td>21.9</td>\n",
       "      <td>54.6</td>\n",
       "      <td>Tomatoes</td>\n",
       "      <td>36.0</td>\n",
       "      <td>29.4</td>\n",
       "      <td>IMG-2002</td>\n",
       "    </tr>\n",
       "    <tr>\n",
       "      <th>3</th>\n",
       "      <td>SEN-1003</td>\n",
       "      <td>2025-01-04</td>\n",
       "      <td>51.91</td>\n",
       "      <td>6.62</td>\n",
       "      <td>24.0</td>\n",
       "      <td>48.7</td>\n",
       "      <td>Maize</td>\n",
       "      <td>85.8</td>\n",
       "      <td>19.6</td>\n",
       "      <td>IMG-2003</td>\n",
       "    </tr>\n",
       "    <tr>\n",
       "      <th>4</th>\n",
       "      <td>SEN-1004</td>\n",
       "      <td>2025-01-05</td>\n",
       "      <td>20.92</td>\n",
       "      <td>5.98</td>\n",
       "      <td>19.2</td>\n",
       "      <td>70.6</td>\n",
       "      <td>Wheat</td>\n",
       "      <td>75.6</td>\n",
       "      <td>29.9</td>\n",
       "      <td>IMG-2004</td>\n",
       "    </tr>\n",
       "  </tbody>\n",
       "</table>\n",
       "</div>"
      ],
      "text/plain": [
       "  Sensor_ID        Date Soil_Moisture(%) Soil_pH Temperature(C) Humidity(%)  \\\n",
       "0  SEN-1000  2025-01-01            36.22    6.98           21.3        50.4   \n",
       "1  SEN-1001  2025-01-02            76.55    5.03           23.5        34.3   \n",
       "2  SEN-1002  2025-01-03            61.24    6.52           21.9        54.6   \n",
       "3  SEN-1003  2025-01-04            51.91    6.62           24.0        48.7   \n",
       "4  SEN-1004  2025-01-05            20.92    5.98           19.2        70.6   \n",
       "\n",
       "  Crop_Type Fertilizer_Recommended(kg/ha) Irrigation_Recommended(mm)  \\\n",
       "0  Tomatoes                          67.6                       26.6   \n",
       "1     Wheat                         130.4                        8.3   \n",
       "2  Tomatoes                          36.0                       29.4   \n",
       "3     Maize                          85.8                       19.6   \n",
       "4     Wheat                          75.6                       29.9   \n",
       "\n",
       "  Drone_Image_ID  \n",
       "0       IMG-2000  \n",
       "1       IMG-2001  \n",
       "2       IMG-2002  \n",
       "3       IMG-2003  \n",
       "4       IMG-2004  "
      ]
     },
     "execution_count": 9,
     "metadata": {},
     "output_type": "execute_result"
    }
   ],
   "source": [
    "df.head()  # Display the first few rows of the DataFrame"
   ]
  },
  {
   "cell_type": "code",
   "execution_count": 7,
   "id": "af6a428b",
   "metadata": {},
   "outputs": [
    {
     "data": {
      "text/html": [
       "<div>\n",
       "<style scoped>\n",
       "    .dataframe tbody tr th:only-of-type {\n",
       "        vertical-align: middle;\n",
       "    }\n",
       "\n",
       "    .dataframe tbody tr th {\n",
       "        vertical-align: top;\n",
       "    }\n",
       "\n",
       "    .dataframe thead th {\n",
       "        text-align: right;\n",
       "    }\n",
       "</style>\n",
       "<table border=\"1\" class=\"dataframe\">\n",
       "  <thead>\n",
       "    <tr style=\"text-align: right;\">\n",
       "      <th></th>\n",
       "      <th>Sensor_ID</th>\n",
       "      <th>Date</th>\n",
       "      <th>Soil_Moisture(%)</th>\n",
       "      <th>Soil_pH</th>\n",
       "      <th>Temperature(C)</th>\n",
       "      <th>Humidity(%)</th>\n",
       "      <th>Crop_Type</th>\n",
       "      <th>Fertilizer_Recommended(kg/ha)</th>\n",
       "      <th>Irrigation_Recommended(mm)</th>\n",
       "      <th>Drone_Image_ID</th>\n",
       "    </tr>\n",
       "  </thead>\n",
       "  <tbody>\n",
       "    <tr>\n",
       "      <th>count</th>\n",
       "      <td>913</td>\n",
       "      <td>909</td>\n",
       "      <td>913</td>\n",
       "      <td>913</td>\n",
       "      <td>913</td>\n",
       "      <td>913</td>\n",
       "      <td>909</td>\n",
       "      <td>913</td>\n",
       "      <td>913</td>\n",
       "      <td>913</td>\n",
       "    </tr>\n",
       "    <tr>\n",
       "      <th>unique</th>\n",
       "      <td>800</td>\n",
       "      <td>798</td>\n",
       "      <td>750</td>\n",
       "      <td>313</td>\n",
       "      <td>170</td>\n",
       "      <td>448</td>\n",
       "      <td>5</td>\n",
       "      <td>595</td>\n",
       "      <td>243</td>\n",
       "      <td>800</td>\n",
       "    </tr>\n",
       "    <tr>\n",
       "      <th>top</th>\n",
       "      <td>SEN-1779</td>\n",
       "      <td>2026-01-02</td>\n",
       "      <td>error</td>\n",
       "      <td>7.54</td>\n",
       "      <td>19.1</td>\n",
       "      <td>56.0</td>\n",
       "      <td>Wheat</td>\n",
       "      <td>66.9</td>\n",
       "      <td>8.0</td>\n",
       "      <td>IMG-2779</td>\n",
       "    </tr>\n",
       "    <tr>\n",
       "      <th>freq</th>\n",
       "      <td>2</td>\n",
       "      <td>2</td>\n",
       "      <td>5</td>\n",
       "      <td>11</td>\n",
       "      <td>13</td>\n",
       "      <td>8</td>\n",
       "      <td>203</td>\n",
       "      <td>8</td>\n",
       "      <td>11</td>\n",
       "      <td>2</td>\n",
       "    </tr>\n",
       "  </tbody>\n",
       "</table>\n",
       "</div>"
      ],
      "text/plain": [
       "       Sensor_ID        Date Soil_Moisture(%) Soil_pH Temperature(C)  \\\n",
       "count        913         909              913     913            913   \n",
       "unique       800         798              750     313            170   \n",
       "top     SEN-1779  2026-01-02            error    7.54           19.1   \n",
       "freq           2           2                5      11             13   \n",
       "\n",
       "       Humidity(%) Crop_Type Fertilizer_Recommended(kg/ha)  \\\n",
       "count          913       909                           913   \n",
       "unique         448         5                           595   \n",
       "top           56.0     Wheat                          66.9   \n",
       "freq             8       203                             8   \n",
       "\n",
       "       Irrigation_Recommended(mm) Drone_Image_ID  \n",
       "count                         913            913  \n",
       "unique                        243            800  \n",
       "top                           8.0       IMG-2779  \n",
       "freq                           11              2  "
      ]
     },
     "execution_count": 7,
     "metadata": {},
     "output_type": "execute_result"
    }
   ],
   "source": [
    "df.describe()"
   ]
  },
  {
   "cell_type": "code",
   "execution_count": 5,
   "id": "2292751e",
   "metadata": {},
   "outputs": [
    {
     "name": "stdout",
     "output_type": "stream",
     "text": [
      "Missing Values:\n",
      "Sensor_ID                        0\n",
      "Date                             4\n",
      "Soil_Moisture(%)                 0\n",
      "Soil_pH                          0\n",
      "Temperature(C)                   0\n",
      "Humidity(%)                      0\n",
      "Crop_Type                        4\n",
      "Fertilizer_Recommended(kg/ha)    0\n",
      "Irrigation_Recommended(mm)       0\n",
      "Drone_Image_ID                   0\n",
      "dtype: int64\n"
     ]
    }
   ],
   "source": [
    "# Check for missing values\n",
    "print(\"Missing Values:\")\n",
    "print(df.isnull().sum())"
   ]
  },
  {
   "cell_type": "code",
   "execution_count": 8,
   "id": "bf9512ed",
   "metadata": {},
   "outputs": [
    {
     "name": "stdout",
     "output_type": "stream",
     "text": [
      "Number of duplicate records: 111\n"
     ]
    }
   ],
   "source": [
    "# Check for duplicates\n",
    "duplicates = df.duplicated().sum()\n",
    "print(f\"Number of duplicate records: {duplicates}\")"
   ]
  },
  {
   "cell_type": "code",
   "execution_count": 10,
   "id": "ca03514a",
   "metadata": {},
   "outputs": [],
   "source": [
    "# Copy the DataFrame for cleaning\n",
    "clean_df = df.copy()"
   ]
  },
  {
   "cell_type": "code",
   "execution_count": null,
   "id": "7d42355c",
   "metadata": {},
   "outputs": [],
   "source": [
    "# Clean the dataset by removing duplicate records, replacing erroneous values with NaN,\n",
    "# and handling missing data appropriately by either filling or dropping values based on logical reasoning."
   ]
  },
  {
   "cell_type": "code",
   "execution_count": 15,
   "id": "82bd2ed6",
   "metadata": {},
   "outputs": [
    {
     "name": "stdout",
     "output_type": "stream",
     "text": [
      "Missing Values:\n",
      "Sensor_ID                        0\n",
      "Date                             0\n",
      "Soil_Moisture(%)                 0\n",
      "Soil_pH                          0\n",
      "Temperature(C)                   0\n",
      "Humidity(%)                      0\n",
      "Crop_Type                        4\n",
      "Fertilizer_Recommended(kg/ha)    0\n",
      "Irrigation_Recommended(mm)       0\n",
      "Drone_Image_ID                   0\n",
      "dtype: int64\n"
     ]
    },
    {
     "name": "stderr",
     "output_type": "stream",
     "text": [
      "C:\\Users\\user\\AppData\\Local\\Temp\\ipykernel_16420\\3826220599.py:4: FutureWarning: A value is trying to be set on a copy of a DataFrame or Series through chained assignment using an inplace method.\n",
      "The behavior will change in pandas 3.0. This inplace method will never work because the intermediate object on which we are setting values always behaves as a copy.\n",
      "\n",
      "For example, when doing 'df[col].method(value, inplace=True)', try using 'df.method({col: value}, inplace=True)' or df[col] = df[col].method(value) instead, to perform the operation inplace on the original object.\n",
      "\n",
      "\n",
      "  clean_df['Date'].fillna(method='ffill', inplace=True)  # type: ignore\n",
      "C:\\Users\\user\\AppData\\Local\\Temp\\ipykernel_16420\\3826220599.py:4: FutureWarning: Series.fillna with 'method' is deprecated and will raise in a future version. Use obj.ffill() or obj.bfill() instead.\n",
      "  clean_df['Date'].fillna(method='ffill', inplace=True)  # type: ignore\n"
     ]
    }
   ],
   "source": [
    "# Handling missing values\n",
    "# Handle the date missing values by filling with the forward fill method which propagates the last valid observation forward\n",
    "clean_df['Date'] = pd.to_datetime(clean_df['Date'], errors='coerce')\n",
    "clean_df['Date'].fillna(method='ffill', inplace=True)  # type: ignore\n",
    "\n",
    "# Check for missing values\n",
    "print(\"Missing Values:\")\n",
    "print(clean_df.isnull().sum())\n",
    "\n"
   ]
  },
  {
   "cell_type": "code",
   "execution_count": 17,
   "id": "717692c9",
   "metadata": {},
   "outputs": [
    {
     "name": "stdout",
     "output_type": "stream",
     "text": [
      "Missing Values after filling:\n",
      "Sensor_ID                        0\n",
      "Date                             0\n",
      "Soil_Moisture(%)                 0\n",
      "Soil_pH                          0\n",
      "Temperature(C)                   0\n",
      "Humidity(%)                      0\n",
      "Crop_Type                        0\n",
      "Fertilizer_Recommended(kg/ha)    0\n",
      "Irrigation_Recommended(mm)       0\n",
      "Drone_Image_ID                   0\n",
      "dtype: int64\n"
     ]
    },
    {
     "name": "stderr",
     "output_type": "stream",
     "text": [
      "C:\\Users\\user\\AppData\\Local\\Temp\\ipykernel_16420\\3976665236.py:2: FutureWarning: A value is trying to be set on a copy of a DataFrame or Series through chained assignment using an inplace method.\n",
      "The behavior will change in pandas 3.0. This inplace method will never work because the intermediate object on which we are setting values always behaves as a copy.\n",
      "\n",
      "For example, when doing 'df[col].method(value, inplace=True)', try using 'df.method({col: value}, inplace=True)' or df[col] = df[col].method(value) instead, to perform the operation inplace on the original object.\n",
      "\n",
      "\n",
      "  clean_df['Crop_Type'].fillna(clean_df['Crop_Type'].mode()[0], inplace=True)\n"
     ]
    }
   ],
   "source": [
    "# Handle the crop type missing values by filling with the mode (most common value)\n",
    "clean_df['Crop_Type'].fillna(clean_df['Crop_Type'].mode()[0], inplace=True)\n",
    "\n",
    "# Check for missing values again\n",
    "print(\"Missing Values after filling:\")\n",
    "print(clean_df.isnull().sum())"
   ]
  },
  {
   "cell_type": "code",
   "execution_count": 18,
   "id": "b8ec4a01",
   "metadata": {},
   "outputs": [
    {
     "name": "stdout",
     "output_type": "stream",
     "text": [
      "<class 'pandas.core.frame.DataFrame'>\n",
      "RangeIndex: 913 entries, 0 to 912\n",
      "Data columns (total 10 columns):\n",
      " #   Column                         Non-Null Count  Dtype         \n",
      "---  ------                         --------------  -----         \n",
      " 0   Sensor_ID                      913 non-null    object        \n",
      " 1   Date                           913 non-null    datetime64[ns]\n",
      " 2   Soil_Moisture(%)               913 non-null    object        \n",
      " 3   Soil_pH                        913 non-null    object        \n",
      " 4   Temperature(C)                 913 non-null    object        \n",
      " 5   Humidity(%)                    913 non-null    object        \n",
      " 6   Crop_Type                      913 non-null    object        \n",
      " 7   Fertilizer_Recommended(kg/ha)  913 non-null    object        \n",
      " 8   Irrigation_Recommended(mm)     913 non-null    object        \n",
      " 9   Drone_Image_ID                 913 non-null    object        \n",
      "dtypes: datetime64[ns](1), object(9)\n",
      "memory usage: 71.5+ KB\n"
     ]
    }
   ],
   "source": [
    "clean_df.info()"
   ]
  },
  {
   "cell_type": "code",
   "execution_count": 20,
   "id": "a8873faf",
   "metadata": {},
   "outputs": [
    {
     "name": "stdout",
     "output_type": "stream",
     "text": [
      "Data Types after Conversion:\n",
      "Sensor_ID                                object\n",
      "Date                             datetime64[ns]\n",
      "Soil_Moisture(%)                        float64\n",
      "Soil_pH                                 float64\n",
      "Temperature(C)                          float64\n",
      "Humidity(%)                             float64\n",
      "Crop_Type                                object\n",
      "Fertilizer_Recommended(kg/ha)           float64\n",
      "Irrigation_Recommended(mm)              float64\n",
      "Drone_Image_ID                           object\n",
      "dtype: object\n"
     ]
    }
   ],
   "source": [
    "# Convert numerical columns to appropriate data types\n",
    "cols_to_convert = ['Soil_Moisture(%)', 'Soil_pH', 'Temperature(C)', 'Humidity(%)',\n",
    "                   'Fertilizer_Recommended(kg/ha)', 'Irrigation_Recommended(mm)']\n",
    "\n",
    "for col in cols_to_convert:\n",
    "    clean_df[col] = pd.to_numeric(clean_df[col], errors='coerce')\n",
    "\n",
    "# Check the data types after conversion\n",
    "print(\"Data Types after Conversion:\")\n",
    "print(clean_df.dtypes)\n"
   ]
  },
  {
   "cell_type": "code",
   "execution_count": 21,
   "id": "a870ca32",
   "metadata": {},
   "outputs": [
    {
     "name": "stdout",
     "output_type": "stream",
     "text": [
      "NaN Values after Conversion:\n"
     ]
    },
    {
     "data": {
      "text/plain": [
       "Sensor_ID                        0\n",
       "Date                             0\n",
       "Soil_Moisture(%)                 5\n",
       "Soil_pH                          5\n",
       "Temperature(C)                   5\n",
       "Humidity(%)                      5\n",
       "Crop_Type                        0\n",
       "Fertilizer_Recommended(kg/ha)    5\n",
       "Irrigation_Recommended(mm)       5\n",
       "Drone_Image_ID                   0\n",
       "dtype: int64"
      ]
     },
     "execution_count": 21,
     "metadata": {},
     "output_type": "execute_result"
    }
   ],
   "source": [
    "# Check for NaN values after conversion\n",
    "print(\"NaN Values after Conversion:\")   \n",
    "clean_df.isna().sum()\n"
   ]
  },
  {
   "cell_type": "code",
   "execution_count": 22,
   "id": "ed1812bd",
   "metadata": {},
   "outputs": [
    {
     "data": {
      "text/html": [
       "<div>\n",
       "<style scoped>\n",
       "    .dataframe tbody tr th:only-of-type {\n",
       "        vertical-align: middle;\n",
       "    }\n",
       "\n",
       "    .dataframe tbody tr th {\n",
       "        vertical-align: top;\n",
       "    }\n",
       "\n",
       "    .dataframe thead th {\n",
       "        text-align: right;\n",
       "    }\n",
       "</style>\n",
       "<table border=\"1\" class=\"dataframe\">\n",
       "  <thead>\n",
       "    <tr style=\"text-align: right;\">\n",
       "      <th></th>\n",
       "      <th>Date</th>\n",
       "      <th>Soil_Moisture(%)</th>\n",
       "      <th>Soil_pH</th>\n",
       "      <th>Temperature(C)</th>\n",
       "      <th>Humidity(%)</th>\n",
       "      <th>Fertilizer_Recommended(kg/ha)</th>\n",
       "      <th>Irrigation_Recommended(mm)</th>\n",
       "    </tr>\n",
       "  </thead>\n",
       "  <tbody>\n",
       "    <tr>\n",
       "      <th>count</th>\n",
       "      <td>913</td>\n",
       "      <td>908.000000</td>\n",
       "      <td>908.000000</td>\n",
       "      <td>908.000000</td>\n",
       "      <td>908.000000</td>\n",
       "      <td>908.000000</td>\n",
       "      <td>908.000000</td>\n",
       "    </tr>\n",
       "    <tr>\n",
       "      <th>mean</th>\n",
       "      <td>2026-02-05 00:56:46.790799360</td>\n",
       "      <td>44.470099</td>\n",
       "      <td>6.255639</td>\n",
       "      <td>26.404515</td>\n",
       "      <td>60.095374</td>\n",
       "      <td>87.659692</td>\n",
       "      <td>17.415419</td>\n",
       "    </tr>\n",
       "    <tr>\n",
       "      <th>min</th>\n",
       "      <td>2025-01-01 00:00:00</td>\n",
       "      <td>10.350000</td>\n",
       "      <td>4.520000</td>\n",
       "      <td>18.000000</td>\n",
       "      <td>30.000000</td>\n",
       "      <td>30.000000</td>\n",
       "      <td>5.000000</td>\n",
       "    </tr>\n",
       "    <tr>\n",
       "      <th>25%</th>\n",
       "      <td>2025-07-20 00:00:00</td>\n",
       "      <td>26.520000</td>\n",
       "      <td>5.330000</td>\n",
       "      <td>22.100000</td>\n",
       "      <td>45.900000</td>\n",
       "      <td>58.275000</td>\n",
       "      <td>11.400000</td>\n",
       "    </tr>\n",
       "    <tr>\n",
       "      <th>50%</th>\n",
       "      <td>2026-02-04 00:00:00</td>\n",
       "      <td>45.185000</td>\n",
       "      <td>6.295000</td>\n",
       "      <td>26.600000</td>\n",
       "      <td>59.400000</td>\n",
       "      <td>86.300000</td>\n",
       "      <td>17.400000</td>\n",
       "    </tr>\n",
       "    <tr>\n",
       "      <th>75%</th>\n",
       "      <td>2026-08-27 00:00:00</td>\n",
       "      <td>62.420000</td>\n",
       "      <td>7.105000</td>\n",
       "      <td>30.600000</td>\n",
       "      <td>75.325000</td>\n",
       "      <td>117.625000</td>\n",
       "      <td>23.700000</td>\n",
       "    </tr>\n",
       "    <tr>\n",
       "      <th>max</th>\n",
       "      <td>2027-03-11 00:00:00</td>\n",
       "      <td>79.980000</td>\n",
       "      <td>8.000000</td>\n",
       "      <td>35.000000</td>\n",
       "      <td>89.900000</td>\n",
       "      <td>149.700000</td>\n",
       "      <td>29.900000</td>\n",
       "    </tr>\n",
       "    <tr>\n",
       "      <th>std</th>\n",
       "      <td>NaN</td>\n",
       "      <td>20.626613</td>\n",
       "      <td>1.026400</td>\n",
       "      <td>4.931119</td>\n",
       "      <td>17.561515</td>\n",
       "      <td>34.704878</td>\n",
       "      <td>7.105890</td>\n",
       "    </tr>\n",
       "  </tbody>\n",
       "</table>\n",
       "</div>"
      ],
      "text/plain": [
       "                                Date  Soil_Moisture(%)     Soil_pH  \\\n",
       "count                            913        908.000000  908.000000   \n",
       "mean   2026-02-05 00:56:46.790799360         44.470099    6.255639   \n",
       "min              2025-01-01 00:00:00         10.350000    4.520000   \n",
       "25%              2025-07-20 00:00:00         26.520000    5.330000   \n",
       "50%              2026-02-04 00:00:00         45.185000    6.295000   \n",
       "75%              2026-08-27 00:00:00         62.420000    7.105000   \n",
       "max              2027-03-11 00:00:00         79.980000    8.000000   \n",
       "std                              NaN         20.626613    1.026400   \n",
       "\n",
       "       Temperature(C)  Humidity(%)  Fertilizer_Recommended(kg/ha)  \\\n",
       "count      908.000000   908.000000                     908.000000   \n",
       "mean        26.404515    60.095374                      87.659692   \n",
       "min         18.000000    30.000000                      30.000000   \n",
       "25%         22.100000    45.900000                      58.275000   \n",
       "50%         26.600000    59.400000                      86.300000   \n",
       "75%         30.600000    75.325000                     117.625000   \n",
       "max         35.000000    89.900000                     149.700000   \n",
       "std          4.931119    17.561515                      34.704878   \n",
       "\n",
       "       Irrigation_Recommended(mm)  \n",
       "count                  908.000000  \n",
       "mean                    17.415419  \n",
       "min                      5.000000  \n",
       "25%                     11.400000  \n",
       "50%                     17.400000  \n",
       "75%                     23.700000  \n",
       "max                     29.900000  \n",
       "std                      7.105890  "
      ]
     },
     "execution_count": 22,
     "metadata": {},
     "output_type": "execute_result"
    }
   ],
   "source": [
    "clean_df.describe()"
   ]
  },
  {
   "cell_type": "code",
   "execution_count": 24,
   "id": "b77aa5eb",
   "metadata": {},
   "outputs": [
    {
     "name": "stdout",
     "output_type": "stream",
     "text": [
      "NaN Values after Filling with Mean:\n",
      "Sensor_ID                        0\n",
      "Date                             0\n",
      "Soil_Moisture(%)                 0\n",
      "Soil_pH                          0\n",
      "Temperature(C)                   0\n",
      "Humidity(%)                      0\n",
      "Crop_Type                        0\n",
      "Fertilizer_Recommended(kg/ha)    0\n",
      "Irrigation_Recommended(mm)       0\n",
      "Drone_Image_ID                   0\n",
      "dtype: int64\n"
     ]
    }
   ],
   "source": [
    "# Handle NaN values in numerical columns\n",
    "for col in cols_to_convert:\n",
    "    if clean_df[col].isnull().any():\n",
    "        # Fill NaN values with the mean of the column\n",
    "        clean_df[col].fillna(clean_df[col].mean(), inplace=True)\n",
    "        \n",
    "# Check for NaN values again\n",
    "print(\"NaN Values after Filling with Mean:\")\n",
    "print(clean_df.isna().sum())"
   ]
  },
  {
   "cell_type": "code",
   "execution_count": 25,
   "id": "201f5ddb",
   "metadata": {},
   "outputs": [],
   "source": [
    "#Handle the wrong values ie outliers in the dataset using the 3-sigma rule\n",
    "for col in cols_to_convert:\n",
    "    mean = clean_df[col].mean()\n",
    "    std_dev = clean_df[col].std()\n",
    "    # Define the upper and lower bounds\n",
    "    upper_bound = mean + (3 * std_dev)\n",
    "    lower_bound = mean - (3 * std_dev)\n",
    "    # Replace outliers with median \n",
    "    clean_df[col] = np.where((clean_df[col] > upper_bound) | (clean_df[col] < lower_bound),\n",
    "                              clean_df[col].median(), clean_df[col])"
   ]
  },
  {
   "cell_type": "code",
   "execution_count": 26,
   "id": "be81a7b6",
   "metadata": {},
   "outputs": [
    {
     "name": "stdout",
     "output_type": "stream",
     "text": [
      "Number of duplicate records after cleaning: 111\n"
     ]
    }
   ],
   "source": [
    "# Check for duplicates again\n",
    "duplicates_after_cleaning = clean_df.duplicated().sum()\n",
    "print(f\"Number of duplicate records after cleaning: {duplicates_after_cleaning}\")"
   ]
  },
  {
   "cell_type": "code",
   "execution_count": 29,
   "id": "5719852f",
   "metadata": {},
   "outputs": [
    {
     "name": "stdout",
     "output_type": "stream",
     "text": [
      "Number of duplicate records after dropping: 0\n",
      "<class 'pandas.core.frame.DataFrame'>\n",
      "Index: 802 entries, 0 to 863\n",
      "Data columns (total 10 columns):\n",
      " #   Column                         Non-Null Count  Dtype         \n",
      "---  ------                         --------------  -----         \n",
      " 0   Sensor_ID                      802 non-null    object        \n",
      " 1   Date                           802 non-null    datetime64[ns]\n",
      " 2   Soil_Moisture(%)               802 non-null    float64       \n",
      " 3   Soil_pH                        802 non-null    float64       \n",
      " 4   Temperature(C)                 802 non-null    float64       \n",
      " 5   Humidity(%)                    802 non-null    float64       \n",
      " 6   Crop_Type                      802 non-null    object        \n",
      " 7   Fertilizer_Recommended(kg/ha)  802 non-null    float64       \n",
      " 8   Irrigation_Recommended(mm)     802 non-null    float64       \n",
      " 9   Drone_Image_ID                 802 non-null    object        \n",
      "dtypes: datetime64[ns](1), float64(6), object(3)\n",
      "memory usage: 68.9+ KB\n"
     ]
    }
   ],
   "source": [
    "# Drop duplicates\n",
    "if duplicates_after_cleaning > 0:\n",
    "    clean_df.drop_duplicates(inplace=True)\n",
    "\n",
    "# Check for duplicates after dropping\n",
    "duplicates_after_dropping = clean_df.duplicated().sum()\n",
    "print(f\"Number of duplicate records after dropping: {duplicates_after_dropping}\")\n",
    "\n",
    "clean_df.shape\n",
    "clean_df.info()"
   ]
  },
  {
   "cell_type": "code",
   "execution_count": 30,
   "id": "40a98d86",
   "metadata": {},
   "outputs": [
    {
     "name": "stdout",
     "output_type": "stream",
     "text": [
      "Descriptive Statistics:\n",
      "                                Date  Soil_Moisture(%)     Soil_pH  \\\n",
      "count                            802        802.000000  802.000000   \n",
      "mean   2026-02-04 01:40:32.917705728         44.761896    6.248838   \n",
      "min              2025-01-01 00:00:00         10.350000    4.520000   \n",
      "25%              2025-07-19 06:00:00         26.947500    5.330000   \n",
      "50%              2026-02-04 12:00:00         45.230000    6.255639   \n",
      "75%              2026-08-22 18:00:00         62.555000    7.080000   \n",
      "max              2027-03-11 00:00:00         79.980000    8.000000   \n",
      "std                              NaN         20.460681    1.021572   \n",
      "\n",
      "       Temperature(C)  Humidity(%)  Fertilizer_Recommended(kg/ha)  \\\n",
      "count      802.000000   802.000000                     802.000000   \n",
      "mean        26.460253    60.037627                      87.469200   \n",
      "min         18.000000    30.000000                      30.000000   \n",
      "25%         22.300000    46.025000                      57.925000   \n",
      "50%         26.600000    59.850000                      85.950000   \n",
      "75%         30.600000    75.275000                     117.675000   \n",
      "max         35.000000    89.900000                     149.700000   \n",
      "std          4.863292    17.415989                      34.765379   \n",
      "\n",
      "       Irrigation_Recommended(mm)  \n",
      "count                  802.000000  \n",
      "mean                    17.392365  \n",
      "min                      5.000000  \n",
      "25%                     11.300000  \n",
      "50%                     17.415419  \n",
      "75%                     23.700000  \n",
      "max                     29.900000  \n",
      "std                      7.140127  \n"
     ]
    }
   ],
   "source": [
    "# Generate descriptive statistics to understand the central tendency and spread of numeric variables\n",
    "print(\"Descriptive Statistics:\")\n",
    "print(clean_df.describe())"
   ]
  },
  {
   "cell_type": "code",
   "execution_count": 37,
   "id": "14a2fb27",
   "metadata": {},
   "outputs": [
    {
     "name": "stdout",
     "output_type": "stream",
     "text": [
      "Unique Crop Types:\n",
      "['Tomatoes' 'Wheat' 'Maize' 'Beans' 'Lettuce']\n"
     ]
    }
   ],
   "source": [
    "# Unique crop types\n",
    "unique_crop_types = clean_df['Crop_Type'].unique()\n",
    "print(\"Unique Crop Types:\")\n",
    "print(unique_crop_types)"
   ]
  },
  {
   "cell_type": "code",
   "execution_count": null,
   "id": "01b4a7c3",
   "metadata": {},
   "outputs": [],
   "source": [
    "# Histogram of duration\n",
    "plt.figure(figsize=(15, 10)) #\n",
    "\n",
    "plt.subplot(2, 2, 1)\n",
    "sns.histplot(df[\"Duration\"], kde=True, bins=30)\n",
    "plt.title(\"Duration Distribution\")\n",
    "\n",
    "plt.subplot(2, 2, 2)\n",
    "sns.histplot(df[\"Pulse\"], kde=True, bins=30)\n",
    "plt.title(\"Pulse Distribution\")"
   ]
  },
  {
   "cell_type": "code",
   "execution_count": null,
   "id": "06ea0c4e",
   "metadata": {},
   "outputs": [
    {
     "data": {
      "text/plain": [
       "Text(0.5, 1.0, 'Temperature Distribution')"
      ]
     },
     "execution_count": 32,
     "metadata": {},
     "output_type": "execute_result"
    },
    {
     "data": {
      "image/png": "[encoded data removed]",
      "text/plain": [
       "<Figure size 1500x1000 with 3 Axes>"
      ]
     },
     "metadata": {},
     "output_type": "display_data"
    }
   ],
   "source": [
    "# Visualize distributions using histograms for key features\n",
    "plt.figure(figsize=(15, 10)) #This will create a figure with a size of 15 inches by 10 inches\n",
    "\n",
    "plt.subplot(3, 3, 1) #this will create a subplot in a 2x2 grid, and this is the first subplot\n",
    "sns.histplot(clean_df['Soil_Moisture(%)'], kde=True, bins=30)\n",
    "plt.title('Soil Moisture Distribution')\n",
    "\n",
    "plt.subplot(3, 3, 2)  # This is the second subplot\n",
    "sns.histplot(clean_df['Soil_pH'], kde=True, bins=30)\n",
    "plt.title('Soil pH Distribution')\n",
    "\n",
    "plt.subplot(3, 3, 3)  # This is the third subplot\n",
    "sns.histplot(clean_df['Temperature(C)'], kde=True, bins=30)\n",
    "plt.title('Temperature Distribution')\n",
    "\n"
   ]
  },
  {
   "cell_type": "code",
   "execution_count": 33,
   "id": "cb7c7710",
   "metadata": {},
   "outputs": [
    {
     "data": {
      "text/plain": [
       "Text(0.5, 1.0, 'Irrigation Recommended Distribution')"
      ]
     },
     "execution_count": 33,
     "metadata": {},
     "output_type": "execute_result"
    },
    {
     "data": {
      "image/png": "[encoded data removed]",
      "text/plain": [
       "<Figure size 1500x1000 with 3 Axes>"
      ]
     },
     "metadata": {},
     "output_type": "display_data"
    }
   ],
   "source": [
    "# Remaining subplots for Humidity, Fertilizer Recommended, and Irrigation Recommended\n",
    "plt.figure(figsize=(15, 10))\n",
    "\n",
    "plt.subplot(3, 3, 1) \n",
    "sns.histplot(clean_df['Humidity(%)'], kde=True, bins=30)\n",
    "plt.title('Humidity Distribution')\n",
    "\n",
    "plt.subplot(3, 3, 2)\n",
    "sns.histplot(clean_df['Fertilizer_Recommended(kg/ha)'], kde=True, bins=30)\n",
    "plt.title('Fertilizer Recommended Distribution')\n",
    "\n",
    "plt.subplot(3, 3, 3)\n",
    "sns.histplot(clean_df['Irrigation_Recommended(mm)'], kde=True, bins=30)\n",
    "plt.title('Irrigation Recommended Distribution')\n"
   ]
  },
  {
   "cell_type": "code",
   "execution_count": 36,
   "id": "1ec86d8c",
   "metadata": {},
   "outputs": [
    {
     "data": {
      "image/png": "[encoded data removed]",
      "text/plain": [
       "<Figure size 1000x500 with 2 Axes>"
      ]
     },
     "metadata": {},
     "output_type": "display_data"
    }
   ],
   "source": [
    "# Correlation heatmap to identify relationships between soil and environmental variables\n",
    "plt.figure(figsize=(10, 5))\n",
    "correlation_matrix = clean_df[cols_to_convert].corr()\n",
    "sns.heatmap(correlation_matrix, annot=True, cmap='coolwarm', fmt='.2f', square=True)\n",
    "plt.title('Correlation Heatmap of Environmental Variables')\n",
    "plt.show()\n"
   ]
  },
  {
   "cell_type": "code",
   "execution_count": 38,
   "id": "e5ccbd15",
   "metadata": {},
   "outputs": [
    {
     "name": "stdout",
     "output_type": "stream",
     "text": [
      "Fertilizer_Recommended(kg/ha)    1.000000\n",
      "Soil_pH                          0.083676\n",
      "Humidity(%)                      0.015300\n",
      "Soil_Moisture(%)                -0.002758\n",
      "Temperature(C)                  -0.007207\n",
      "Irrigation_Recommended(mm)      -0.014122\n",
      "Name: Fertilizer_Recommended(kg/ha), dtype: float64\n"
     ]
    }
   ],
   "source": [
    "correlations = clean_df.corr(numeric_only=True)\n",
    "fertilizer_corr = correlations['Fertilizer_Recommended(kg/ha)'].sort_values(ascending=False)\n",
    "print(fertilizer_corr)\n"
   ]
  },
  {
   "cell_type": "code",
   "execution_count": 54,
   "id": "93dd6907",
   "metadata": {},
   "outputs": [
    {
     "name": "stdout",
     "output_type": "stream",
     "text": [
      "Crop Type with Highest Average Soil Moisture: Wheat\n",
      "highest average temperature: 26.460252589890914°C\n"
     ]
    }
   ],
   "source": [
    "# Crop type with the highest average soil moisture\n",
    "highest_avg_soil_moisture = clean_df.groupby('Crop_Type')['Soil_Moisture(%)'].mean().idxmax()\n",
    "print(f\"Crop Type with Highest Average Soil Moisture: {highest_avg_soil_moisture}\")\n",
    "print(f\"highest average temperature: {clean_df['Temperature(C)'].mean()}°C\")"
   ]
  },
  {
   "cell_type": "code",
   "execution_count": null,
   "id": "6b77d4f3",
   "metadata": {},
   "outputs": [
    {
     "name": "stderr",
     "output_type": "stream",
     "text": [
      "C:\\Users\\user\\AppData\\Local\\Temp\\ipykernel_16420\\3872761849.py:30: FutureWarning: \n",
      "\n",
      "Passing `palette` without assigning `hue` is deprecated and will be removed in v0.14.0. Assign the `y` variable to `hue` and set `legend=False` for the same effect.\n",
      "\n",
      "  sns.barplot(data=importance_df, x='Importance', y='Feature', palette='viridis')\n"
     ]
    },
    {
     "data": {
      "image/png": "[encoded data removed]",
      "text/plain": [
       "<Figure size 800x500 with 1 Axes>"
      ]
     },
     "metadata": {},
     "output_type": "display_data"
    }
   ],
   "source": [
    "\n",
    "from sklearn.ensemble import RandomForestRegressor\n",
    "from sklearn.model_selection import train_test_split\n",
    "\n",
    "\n",
    "# 1. Select features and target\n",
    "features = ['Soil_pH', 'Humidity(%)', 'Soil_Moisture(%)', 'Temperature(C)', 'Irrigation_Recommended(mm)']\n",
    "target = 'Fertilizer_Recommended(kg/ha)'\n",
    "\n",
    "X = clean_df[features]\n",
    "y = clean_df[target]\n",
    "\n",
    "# 2. Split the data\n",
    "X_train, X_test, y_train, y_test = train_test_split(X, y, test_size=0.2, random_state=42)\n",
    "\n",
    "# 3. Train the model\n",
    "model = RandomForestRegressor(n_estimators=100, random_state=42)\n",
    "model.fit(X_train, y_train)\n",
    "\n",
    "# 4. Get feature importances\n",
    "importances = model.feature_importances_\n",
    "importance_df = pd.DataFrame({\n",
    "    'Feature': features,\n",
    "    'Importance': importances\n",
    "}).sort_values(by='Importance', ascending=False)\n",
    "\n",
    "# 5. Visualize\n",
    "plt.figure(figsize=(8, 5))\n",
    "sns.barplot(data=importance_df, x='Importance', y='Feature', palette='viridis')\n",
    "plt.title('Feature Importance for Fertilizer Recommendation')\n",
    "plt.xlabel('Importance')\n",
    "plt.ylabel('Feature')\n",
    "plt.tight_layout()\n",
    "plt.show()\n"
   ]
  },
  {
   "cell_type": "code",
   "execution_count": 44,
   "id": "4851cfa1",
   "metadata": {},
   "outputs": [
    {
     "name": "stdout",
     "output_type": "stream",
     "text": [
      "Crops with Average Temperatures Above 30°C:\n",
      "['Lettuce' 'Maize' 'Wheat' 'Tomatoes' 'Beans']\n"
     ]
    }
   ],
   "source": [
    "# Determine irrigation adjustments for crops with average temperatures above 30°C\n",
    "high_temp_crops = clean_df[clean_df['Temperature(C)'] > 30]\n",
    "# List of crops with average temperatures above 30°C\n",
    "high_temp_crops_list = high_temp_crops['Crop_Type'].unique()\n",
    "print(\"Crops with Average Temperatures Above 30°C:\")\n",
    "print(high_temp_crops_list)\n"
   ]
  },
  {
   "cell_type": "code",
   "execution_count": 55,
   "id": "2b89ea63",
   "metadata": {},
   "outputs": [
    {
     "name": "stdout",
     "output_type": "stream",
     "text": [
      "Crops and their Average Temperatures:\n",
      "Crop_Type\n",
      "Beans       26.854635\n",
      "Lettuce     26.160957\n",
      "Maize       27.009061\n",
      "Tomatoes    26.169670\n",
      "Wheat       26.170480\n",
      "Name: Temperature(C), dtype: float64\n",
      "Crops with Average Temperatures Above 30°C:\n",
      "[]\n"
     ]
    }
   ],
   "source": [
    "# Calculate average temperature by crop type\n",
    "crop_avg_temps = clean_df.groupby('Crop_Type')['Temperature(C)'].mean()\n",
    "\n",
    "# Get crops with average temperature above 30°C\n",
    "high_temp_crops_list = crop_avg_temps[crop_avg_temps > 30].index.tolist()\n",
    "\n",
    "#print crop and average temp\n",
    "print(\"Crops and their Average Temperatures:\")\n",
    "print(crop_avg_temps)\n",
    "\n",
    "\n",
    "print(\"Crops with Average Temperatures Above 30°C:\")\n",
    "print(high_temp_crops_list)"
   ]
  },
  {
   "cell_type": "code",
   "execution_count": 45,
   "id": "49b7ccc6",
   "metadata": {},
   "outputs": [
    {
     "name": "stdout",
     "output_type": "stream",
     "text": [
      "Average Irrigation Recommended for Crops with Temperature > 30°C: 17.65 mm\n"
     ]
    }
   ],
   "source": [
    "# Determine irrigation adjustments for crops with average temperatures above 30°C\n",
    "high_temp_crops = clean_df[clean_df['Temperature(C)'] > 30]\n",
    "if not high_temp_crops.empty:\n",
    "    avg_irrigation = high_temp_crops['Irrigation_Recommended(mm)'].mean()\n",
    "    print(f\"Average Irrigation Recommended for Crops with Temperature > 30°C: {avg_irrigation:.2f} mm\")"
   ]
  },
  {
   "cell_type": "code",
   "execution_count": null,
   "id": "0e6fc149",
   "metadata": {},
   "outputs": [],
   "source": [
    "# Insights and recommendations\n",
    "# Key insights include:\n",
    "# INSIGHT:\n",
    "# - The crop type with the highest average soil moisture is wheat.\n",
    "\n",
    "# INSIGHT:\n",
    "# The top 3 factors influencing fertilizer recommendations are:\n",
    "# 1. Irrigation_Recommended (most important)\n",
    "# 2. Soil_pH\n",
    "# 3. Humidity\n",
    "\n",
    "# Temperature and Soil Moisture had relatively lower influence.\n",
    "\n",
    "# INSIGHT:\n",
    "# Crops with temperatures which go above 30°C include 'Lettuce' 'Maize' 'Wheat' 'Tomatoes' 'Beans', which may require irrigation adjustments.\n",
    "# There are not any crops with average temperatures above 30°C in the dataset.\n",
    "# The highest average temperature is 26.460252589890914°C\n",
    "\n",
    "\n",
    "# Recommendations:\n",
    "# - For crops with high soil moisture, consider reducing irrigation to prevent waterlogging.\n",
    "# - For crops with high temperatures, increase irrigation to maintain optimal growth conditions.\n",
    "# - Average Irrigation Recommended for Crops with Temperature > 30°C is 17.65 mm\n"
   ]
  }
 ],
 "metadata": {
  "kernelspec": {
   "display_name": "myenv",
   "language": "python",
   "name": "python3"
  },
  "language_info": {
   "codemirror_mode": {
    "name": "ipython",
    "version": 3
   },
   "file_extension": ".py",
   "mimetype": "text/x-python",
   "name": "python",
   "nbconvert_exporter": "python",
   "pygments_lexer": "ipython3",
   "version": "3.13.2"
  }
 },
 "nbformat": 4,
 "nbformat_minor": 5
}
