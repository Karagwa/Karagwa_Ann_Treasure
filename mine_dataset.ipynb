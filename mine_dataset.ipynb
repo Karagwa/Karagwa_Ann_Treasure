{
 "cells": [
  {
   "cell_type": "code",
   "execution_count": 2,
   "id": "83d9c097",
   "metadata": {},
   "outputs": [
    {
     "name": "stdout",
     "output_type": "stream",
     "text": [
      "<class 'pandas.core.frame.DataFrame'>\n",
      "RangeIndex: 31 entries, 0 to 30\n",
      "Data columns (total 5 columns):\n",
      " #   Column    Non-Null Count  Dtype  \n",
      "---  ------    --------------  -----  \n",
      " 0   Duration  31 non-null     int64  \n",
      " 1   Date      29 non-null     object \n",
      " 2   Pulse     30 non-null     float64\n",
      " 3   Maxpulse  29 non-null     float64\n",
      " 4   Calories  27 non-null     float64\n",
      "dtypes: float64(3), int64(1), object(1)\n",
      "memory usage: 1.3+ KB\n",
      "None\n"
     ]
    }
   ],
   "source": [
    "import pandas as pd\n",
    "df=pd.read_csv(\"Mine.csv\")\n",
    "print(df.info())"
   ]
  },
  {
   "cell_type": "markdown",
   "id": "60bb21c9",
   "metadata": {},
   "source": [
    "## data cleaning\n",
    "### recommendation\n",
    "### Handle empty values = get the average of the column and fill it in\n",
    "### Correct wrong formats = convert them\n",
    "### Correct wrong data\n",
    "### Remove duplicates = drop duplicates in rows not in columns\n"
   ]
  },
  {
   "cell_type": "code",
   "execution_count": null,
   "id": "718ba741",
   "metadata": {},
   "outputs": [
    {
     "name": "stdout",
     "output_type": "stream",
     "text": [
      "<class 'pandas.core.frame.DataFrame'>\n",
      "RangeIndex: 31 entries, 0 to 30\n",
      "Data columns (total 5 columns):\n",
      " #   Column    Non-Null Count  Dtype  \n",
      "---  ------    --------------  -----  \n",
      " 0   Duration  31 non-null     int64  \n",
      " 1   Date      29 non-null     object \n",
      " 2   Pulse     31 non-null     float64\n",
      " 3   Maxpulse  31 non-null     float64\n",
      " 4   Calories  31 non-null     float64\n",
      "dtypes: float64(3), int64(1), object(1)\n",
      "memory usage: 1.3+ KB\n",
      "None\n"
     ]
    }
   ],
   "source": [
    "# Fill missing numerical values with the mean of each column\n",
    "clean_df = df.fillna(df.mean(numeric_only=True))\n",
    "print(clean_df.info())"
   ]
  },
  {
   "cell_type": "code",
   "execution_count": 8,
   "id": "51d8e6a7",
   "metadata": {},
   "outputs": [
    {
     "name": "stdout",
     "output_type": "stream",
     "text": [
      "<class 'pandas.core.frame.DataFrame'>\n",
      "RangeIndex: 31 entries, 0 to 30\n",
      "Data columns (total 5 columns):\n",
      " #   Column    Non-Null Count  Dtype         \n",
      "---  ------    --------------  -----         \n",
      " 0   Duration  31 non-null     int64         \n",
      " 1   Date      29 non-null     datetime64[ns]\n",
      " 2   Pulse     31 non-null     float64       \n",
      " 3   Maxpulse  31 non-null     float64       \n",
      " 4   Calories  31 non-null     float64       \n",
      "dtypes: datetime64[ns](1), float64(3), int64(1)\n",
      "memory usage: 1.3 KB\n",
      "None\n",
      "   Duration       Date  Pulse  Maxpulse    Calories\n",
      "0        60 2023-10-01  110.0     130.0  409.100000\n",
      "1        60 2023-10-02  117.0     145.0  479.000000\n",
      "2        60 2023-10-03  103.0     135.0  340.300000\n",
      "3        45 2023-10-04  109.0     175.0  282.400000\n",
      "4        45 2023-10-05  117.0     150.0  405.100000\n",
      "5        60 2023-10-06  103.0     125.0  300.000000\n",
      "6        60 2023-10-07  110.0     135.0  374.000000\n",
      "7       400 2023-10-08  114.0     133.0  302.859259\n",
      "8        60 2023-10-09  112.0     126.0  193.800000\n"
     ]
    }
   ],
   "source": [
    "#formating the date column\n",
    "clean_df[\"Date\"]= pd.to_datetime(clean_df[\"Date\"], errors='coerce')\n",
    "print(clean_df.info())\n",
    "print(clean_df.head(9))"
   ]
  },
  {
   "cell_type": "code",
   "execution_count": null,
   "id": "3d04c7f9",
   "metadata": {},
   "outputs": [
    {
     "name": "stdout",
     "output_type": "stream",
     "text": [
      "<class 'pandas.core.frame.DataFrame'>\n",
      "RangeIndex: 31 entries, 0 to 30\n",
      "Data columns (total 5 columns):\n",
      " #   Column    Non-Null Count  Dtype         \n",
      "---  ------    --------------  -----         \n",
      " 0   Duration  31 non-null     int64         \n",
      " 1   Date      31 non-null     datetime64[ns]\n",
      " 2   Pulse     31 non-null     float64       \n",
      " 3   Maxpulse  31 non-null     float64       \n",
      " 4   Calories  31 non-null     float64       \n",
      "dtypes: datetime64[ns](1), float64(3), int64(1)\n",
      "memory usage: 1.3 KB\n",
      "None\n"
     ]
    },
    {
     "name": "stderr",
     "output_type": "stream",
     "text": [
      "C:\\Users\\user\\AppData\\Local\\Temp\\ipykernel_26780\\1632411976.py:1: FutureWarning: A value is trying to be set on a copy of a DataFrame or Series through chained assignment using an inplace method.\n",
      "The behavior will change in pandas 3.0. This inplace method will never work because the intermediate object on which we are setting values always behaves as a copy.\n",
      "\n",
      "For example, when doing 'df[col].method(value, inplace=True)', try using 'df.method({col: value}, inplace=True)' or df[col] = df[col].method(value) instead, to perform the operation inplace on the original object.\n",
      "\n",
      "\n",
      "  clean_df[\"Date\"].fillna(method=\"ffill\", inplace=True) # type: ignore\n",
      "C:\\Users\\user\\AppData\\Local\\Temp\\ipykernel_26780\\1632411976.py:1: FutureWarning: Series.fillna with 'method' is deprecated and will raise in a future version. Use obj.ffill() or obj.bfill() instead.\n",
      "  clean_df[\"Date\"].fillna(method=\"ffill\", inplace=True) # type: ignore\n"
     ]
    }
   ],
   "source": [
    "# Cleaning the date column by filling NaN values\n",
    "clean_df[\"Date\"].fillna(method=\"ffill\", inplace=True) # type: ignore\n",
    "print(clean_df.info())"
   ]
  },
  {
   "cell_type": "code",
   "execution_count": 11,
   "id": "ba49227a",
   "metadata": {},
   "outputs": [
    {
     "name": "stdout",
     "output_type": "stream",
     "text": [
      "<class 'pandas.core.frame.DataFrame'>\n",
      "RangeIndex: 31 entries, 0 to 30\n",
      "Data columns (total 5 columns):\n",
      " #   Column    Non-Null Count  Dtype         \n",
      "---  ------    --------------  -----         \n",
      " 0   Duration  31 non-null     int64         \n",
      " 1   Date      31 non-null     datetime64[ns]\n",
      " 2   Pulse     31 non-null     float64       \n",
      " 3   Maxpulse  31 non-null     float64       \n",
      " 4   Calories  31 non-null     float64       \n",
      "dtypes: datetime64[ns](1), float64(3), int64(1)\n",
      "memory usage: 1.3 KB\n",
      "None\n"
     ]
    }
   ],
   "source": [
    "# Removing duplicate\n",
    "# print(clean_df.duplicated())\n",
    "clean_df.drop_duplicates(inplace=True)\n",
    "print(clean_df.info())"
   ]
  },
  {
   "cell_type": "code",
   "execution_count": null,
   "id": "a9d2b2b4",
   "metadata": {},
   "outputs": [],
   "source": []
  }
 ],
 "metadata": {
  "kernelspec": {
   "display_name": "myenv",
   "language": "python",
   "name": "python3"
  },
  "language_info": {
   "codemirror_mode": {
    "name": "ipython",
    "version": 3
   },
   "file_extension": ".py",
   "mimetype": "text/x-python",
   "name": "python",
   "nbconvert_exporter": "python",
   "pygments_lexer": "ipython3",
   "version": "3.13.2"
  }
 },
 "nbformat": 4,
 "nbformat_minor": 5
}
