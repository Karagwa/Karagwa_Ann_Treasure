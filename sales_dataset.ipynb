{
 "cells": [
  {
   "cell_type": "code",
   "execution_count": 8,
   "id": "cd56288c",
   "metadata": {},
   "outputs": [
    {
     "name": "stdout",
     "output_type": "stream",
     "text": [
      "<class 'pandas.core.frame.DataFrame'>\n",
      "RangeIndex: 8 entries, 0 to 7\n",
      "Data columns (total 7 columns):\n",
      " #   Column         Non-Null Count  Dtype  \n",
      "---  ------         --------------  -----  \n",
      " 0   Order ID       8 non-null      int64  \n",
      " 1   Customer Name  7 non-null      object \n",
      " 2   Order Date     8 non-null      object \n",
      " 3   Product        8 non-null      object \n",
      " 4   Quantity       7 non-null      float64\n",
      " 5   Unit Price     7 non-null      float64\n",
      " 6   Total Revenue  7 non-null      float64\n",
      "dtypes: float64(3), int64(1), object(3)\n",
      "memory usage: 580.0+ bytes\n",
      "None\n"
     ]
    }
   ],
   "source": [
    "import pandas as pd\n",
    "sales_df=pd.read_csv(\"Sales.csv\")\n",
    "\n",
    "print(sales_df.info())"
   ]
  },
  {
   "cell_type": "code",
   "execution_count": 9,
   "id": "f3ccd1f4",
   "metadata": {},
   "outputs": [
    {
     "name": "stdout",
     "output_type": "stream",
     "text": [
      "<class 'pandas.core.frame.DataFrame'>\n",
      "Index: 7 entries, 0 to 7\n",
      "Data columns (total 7 columns):\n",
      " #   Column         Non-Null Count  Dtype  \n",
      "---  ------         --------------  -----  \n",
      " 0   Order ID       7 non-null      int64  \n",
      " 1   Customer Name  7 non-null      object \n",
      " 2   Order Date     7 non-null      object \n",
      " 3   Product        7 non-null      object \n",
      " 4   Quantity       7 non-null      float64\n",
      " 5   Unit Price     7 non-null      float64\n",
      " 6   Total Revenue  7 non-null      float64\n",
      "dtypes: float64(3), int64(1), object(3)\n",
      "memory usage: 448.0+ bytes\n",
      "None\n"
     ]
    }
   ],
   "source": [
    "clean_df = sales_df.fillna(sales_df.mean(numeric_only=True))\n",
    "clean_sales = clean_df.dropna()\n",
    "print(clean_sales.info())"
   ]
  },
  {
   "cell_type": "code",
   "execution_count": 10,
   "id": "928db986",
   "metadata": {},
   "outputs": [
    {
     "name": "stdout",
     "output_type": "stream",
     "text": [
      "   Order ID  Customer Name Order Date   Product  Quantity  Unit Price  \\\n",
      "0      1001       John Doe 2024-01-01  Widget A      10.0   25.000000   \n",
      "1      1002     Jane Smith 2024-01-02  Widget B       5.0   40.000000   \n",
      "3      1004  Alice Johnson 2024-04-01  Widget C       3.0   35.714286   \n",
      "4      1005      Bob Brown 2024-01-05  Widget B      10.0   40.000000   \n",
      "5      1006       John Doe 2024-06-01  Widget A       4.0   25.000000   \n",
      "6      1001       John Doe 2024-01-01  Widget A      10.0   25.000000   \n",
      "7      1007     Jane Smith 2024-07-01  Widget C      -6.0   70.000000   \n",
      "\n",
      "   Total Revenue  \n",
      "0          250.0  \n",
      "1          200.0  \n",
      "3          210.0  \n",
      "4          400.0  \n",
      "5          100.0  \n",
      "6          250.0  \n",
      "7         -420.0  \n"
     ]
    },
    {
     "name": "stderr",
     "output_type": "stream",
     "text": [
      "C:\\Users\\user\\AppData\\Local\\Temp\\ipykernel_20716\\314067174.py:2: SettingWithCopyWarning: \n",
      "A value is trying to be set on a copy of a slice from a DataFrame.\n",
      "Try using .loc[row_indexer,col_indexer] = value instead\n",
      "\n",
      "See the caveats in the documentation: https://pandas.pydata.org/pandas-docs/stable/user_guide/indexing.html#returning-a-view-versus-a-copy\n",
      "  clean_sales[\"Order Date\"]=pd.to_datetime(clean_sales[\"Order Date\"], format= \"mixed\")\n"
     ]
    }
   ],
   "source": [
    "# Formatting the \"Order Date\" column\n",
    "clean_sales[\"Order Date\"]=pd.to_datetime(clean_sales[\"Order Date\"], format= \"mixed\")\n",
    "print(clean_sales)\n"
   ]
  },
  {
   "cell_type": "code",
   "execution_count": 11,
   "id": "662d42a9",
   "metadata": {},
   "outputs": [
    {
     "name": "stdout",
     "output_type": "stream",
     "text": [
      "<class 'pandas.core.frame.DataFrame'>\n",
      "Index: 7 entries, 0 to 7\n",
      "Data columns (total 7 columns):\n",
      " #   Column         Non-Null Count  Dtype         \n",
      "---  ------         --------------  -----         \n",
      " 0   Order ID       7 non-null      int64         \n",
      " 1   Customer Name  7 non-null      object        \n",
      " 2   Order Date     7 non-null      datetime64[ns]\n",
      " 3   Product        7 non-null      object        \n",
      " 4   Quantity       7 non-null      float64       \n",
      " 5   Unit Price     7 non-null      float64       \n",
      " 6   Total Revenue  7 non-null      float64       \n",
      "dtypes: datetime64[ns](1), float64(3), int64(1), object(2)\n",
      "memory usage: 448.0+ bytes\n",
      "None\n"
     ]
    }
   ],
   "source": [
    "print(clean_sales.info())"
   ]
  },
  {
   "cell_type": "code",
   "execution_count": 14,
   "id": "83d039b5",
   "metadata": {},
   "outputs": [
    {
     "name": "stdout",
     "output_type": "stream",
     "text": [
      "<class 'pandas.core.frame.DataFrame'>\n",
      "Index: 7 entries, 0 to 7\n",
      "Data columns (total 7 columns):\n",
      " #   Column         Non-Null Count  Dtype         \n",
      "---  ------         --------------  -----         \n",
      " 0   Order ID       7 non-null      int64         \n",
      " 1   Customer Name  7 non-null      object        \n",
      " 2   Order Date     7 non-null      datetime64[ns]\n",
      " 3   Product        7 non-null      object        \n",
      " 4   Quantity       7 non-null      float64       \n",
      " 5   Unit Price     7 non-null      float64       \n",
      " 6   Total Revenue  7 non-null      float64       \n",
      "dtypes: datetime64[ns](1), float64(3), int64(1), object(2)\n",
      "memory usage: 448.0+ bytes\n",
      "None\n",
      "   Order ID  Customer Name Order Date   Product  Quantity  Unit Price  \\\n",
      "0      1001       John Doe 2024-01-01  Widget A      10.0   25.000000   \n",
      "1      1002     Jane Smith 2024-01-02  Widget B       5.0   40.000000   \n",
      "3      1004  Alice Johnson 2024-04-01  Widget C       3.0   35.714286   \n",
      "4      1005      Bob Brown 2024-01-05  Widget B      10.0   40.000000   \n",
      "5      1006       John Doe 2024-06-01  Widget A       4.0   25.000000   \n",
      "6      1001       John Doe 2024-01-01  Widget A      10.0   25.000000   \n",
      "7      1007     Jane Smith 2024-07-01  Widget C       6.0   70.000000   \n",
      "\n",
      "   Total Revenue  \n",
      "0          250.0  \n",
      "1          200.0  \n",
      "3          210.0  \n",
      "4          400.0  \n",
      "5          100.0  \n",
      "6          250.0  \n",
      "7          420.0  \n"
     ]
    },
    {
     "name": "stderr",
     "output_type": "stream",
     "text": [
      "C:\\Users\\user\\AppData\\Local\\Temp\\ipykernel_20716\\2039336472.py:2: SettingWithCopyWarning: \n",
      "A value is trying to be set on a copy of a slice from a DataFrame.\n",
      "Try using .loc[row_indexer,col_indexer] = value instead\n",
      "\n",
      "See the caveats in the documentation: https://pandas.pydata.org/pandas-docs/stable/user_guide/indexing.html#returning-a-view-versus-a-copy\n",
      "  clean_sales[\"Quantity\"] = clean_sales[\"Quantity\"].abs()\n",
      "C:\\Users\\user\\AppData\\Local\\Temp\\ipykernel_20716\\2039336472.py:3: SettingWithCopyWarning: \n",
      "A value is trying to be set on a copy of a slice from a DataFrame.\n",
      "Try using .loc[row_indexer,col_indexer] = value instead\n",
      "\n",
      "See the caveats in the documentation: https://pandas.pydata.org/pandas-docs/stable/user_guide/indexing.html#returning-a-view-versus-a-copy\n",
      "  clean_sales[\"Total Revenue\"] = clean_sales[\"Total Revenue\"].abs()\n"
     ]
    }
   ],
   "source": [
    "# Iterate through the index and check the \"Quantity\" column\n",
    "clean_sales[\"Quantity\"] = clean_sales[\"Quantity\"].abs()\n",
    "clean_sales[\"Total Revenue\"] = clean_sales[\"Total Revenue\"].abs()\n",
    "\n",
    "        \n",
    "print(clean_sales.info())\n",
    "print(clean_sales.head(9))"
   ]
  },
  {
   "cell_type": "code",
   "execution_count": 16,
   "id": "f979e6e5",
   "metadata": {},
   "outputs": [
    {
     "name": "stdout",
     "output_type": "stream",
     "text": [
      "0    False\n",
      "1    False\n",
      "3    False\n",
      "4    False\n",
      "5    False\n",
      "6     True\n",
      "7    False\n",
      "dtype: bool\n"
     ]
    }
   ],
   "source": [
    "#cChecking for duplicates\n",
    "print(clean_sales.duplicated())"
   ]
  },
  {
   "cell_type": "code",
   "execution_count": 17,
   "id": "4cb2fad2",
   "metadata": {},
   "outputs": [
    {
     "name": "stdout",
     "output_type": "stream",
     "text": [
      "<class 'pandas.core.frame.DataFrame'>\n",
      "Index: 6 entries, 0 to 7\n",
      "Data columns (total 7 columns):\n",
      " #   Column         Non-Null Count  Dtype         \n",
      "---  ------         --------------  -----         \n",
      " 0   Order ID       6 non-null      int64         \n",
      " 1   Customer Name  6 non-null      object        \n",
      " 2   Order Date     6 non-null      datetime64[ns]\n",
      " 3   Product        6 non-null      object        \n",
      " 4   Quantity       6 non-null      float64       \n",
      " 5   Unit Price     6 non-null      float64       \n",
      " 6   Total Revenue  6 non-null      float64       \n",
      "dtypes: datetime64[ns](1), float64(3), int64(1), object(2)\n",
      "memory usage: 384.0+ bytes\n",
      "None\n",
      "   Order ID  Customer Name Order Date   Product  Quantity  Unit Price  \\\n",
      "0      1001       John Doe 2024-01-01  Widget A      10.0   25.000000   \n",
      "1      1002     Jane Smith 2024-01-02  Widget B       5.0   40.000000   \n",
      "3      1004  Alice Johnson 2024-04-01  Widget C       3.0   35.714286   \n",
      "4      1005      Bob Brown 2024-01-05  Widget B      10.0   40.000000   \n",
      "5      1006       John Doe 2024-06-01  Widget A       4.0   25.000000   \n",
      "7      1007     Jane Smith 2024-07-01  Widget C       6.0   70.000000   \n",
      "\n",
      "   Total Revenue  \n",
      "0          250.0  \n",
      "1          200.0  \n",
      "3          210.0  \n",
      "4          400.0  \n",
      "5          100.0  \n",
      "7          420.0  \n"
     ]
    }
   ],
   "source": [
    "clean_sales=clean_sales.drop_duplicates() #Removed duplicate rows\n",
    "print(clean_sales.info())   \n",
    "print(clean_sales.head(9))"
   ]
  }
 ],
 "metadata": {
  "kernelspec": {
   "display_name": "myenv",
   "language": "python",
   "name": "python3"
  },
  "language_info": {
   "codemirror_mode": {
    "name": "ipython",
    "version": 3
   },
   "file_extension": ".py",
   "mimetype": "text/x-python",
   "name": "python",
   "nbconvert_exporter": "python",
   "pygments_lexer": "ipython3",
   "version": "3.13.2"
  }
 },
 "nbformat": 4,
 "nbformat_minor": 5
}
