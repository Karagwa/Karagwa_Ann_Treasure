{
 "cells": [
  {
   "cell_type": "code",
   "execution_count": 1,
   "id": "cd56288c",
   "metadata": {},
   "outputs": [
    {
     "name": "stdout",
     "output_type": "stream",
     "text": [
      "<class 'pandas.core.frame.DataFrame'>\n",
      "RangeIndex: 8 entries, 0 to 7\n",
      "Data columns (total 7 columns):\n",
      " #   Column         Non-Null Count  Dtype  \n",
      "---  ------         --------------  -----  \n",
      " 0   Order ID       8 non-null      int64  \n",
      " 1   Customer Name  7 non-null      object \n",
      " 2   Order Date     8 non-null      object \n",
      " 3   Product        8 non-null      object \n",
      " 4   Quantity       7 non-null      float64\n",
      " 5   Unit Price     7 non-null      float64\n",
      " 6   Total Revenue  7 non-null      float64\n",
      "dtypes: float64(3), int64(1), object(3)\n",
      "memory usage: 580.0+ bytes\n",
      "None\n"
     ]
    }
   ],
   "source": [
    "import pandas as pd\n",
    "sales_df=pd.read_csv(\"Sales.csv\")\n",
    "\n",
    "print(sales_df.info())"
   ]
  },
  {
   "cell_type": "code",
   "execution_count": 3,
   "id": "f3ccd1f4",
   "metadata": {},
   "outputs": [
    {
     "name": "stdout",
     "output_type": "stream",
     "text": [
      "<class 'pandas.core.frame.DataFrame'>\n",
      "Index: 6 entries, 0 to 7\n",
      "Data columns (total 7 columns):\n",
      " #   Column         Non-Null Count  Dtype  \n",
      "---  ------         --------------  -----  \n",
      " 0   Order ID       6 non-null      int64  \n",
      " 1   Customer Name  6 non-null      object \n",
      " 2   Order Date     6 non-null      object \n",
      " 3   Product        6 non-null      object \n",
      " 4   Quantity       6 non-null      float64\n",
      " 5   Unit Price     6 non-null      float64\n",
      " 6   Total Revenue  6 non-null      float64\n",
      "dtypes: float64(3), int64(1), object(3)\n",
      "memory usage: 384.0+ bytes\n",
      "None\n"
     ]
    }
   ],
   "source": [
    "clean_sales=sales_df.dropna()\n",
    "print(clean_sales.info())"
   ]
  }
 ],
 "metadata": {
  "kernelspec": {
   "display_name": "myenv",
   "language": "python",
   "name": "python3"
  },
  "language_info": {
   "codemirror_mode": {
    "name": "ipython",
    "version": 3
   },
   "file_extension": ".py",
   "mimetype": "text/x-python",
   "name": "python",
   "nbconvert_exporter": "python",
   "pygments_lexer": "ipython3",
   "version": "3.13.2"
  }
 },
 "nbformat": 4,
 "nbformat_minor": 5
}
