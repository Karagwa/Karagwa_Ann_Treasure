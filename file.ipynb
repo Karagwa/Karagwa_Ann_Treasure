{
 "cells": [
  {
   "cell_type": "code",
   "execution_count": 10,
   "id": "f3b98fc7",
   "metadata": {},
   "outputs": [
    {
     "name": "stdout",
     "output_type": "stream",
     "text": [
      "New treasure found!\n",
      "\n",
      "New treasure found!\n",
      "More treasures discovered!\n",
      "\n"
     ]
    }
   ],
   "source": [
    "#Reading and writing to a file in Python\n",
    "#Open a file in read mode\n",
    "with open('treasure.txt', 'r') as file:\n",
    "    contents = file.read()\n",
    "    #Print the contents of the file \n",
    "    print(contents)\n",
    "#Open a file in write mode, but this will overwrite the existing content\n",
    "with open('treasure.txt', 'w') as file:\n",
    "    file.write('New treasure found!\\n')\n",
    "    \n",
    "#Open the file in write mode again to append new content\n",
    "with open('treasure.txt', 'a') as file:\n",
    "    file.write('More treasures discovered!\\n')\n",
    "    \n",
    "#Open the file again in read mode to see the changes\n",
    "with open('treasure.txt', 'r') as file:\n",
    "    new_contents = file.read()  \n",
    "    print(new_contents)\n"
   ]
  },
  {
   "cell_type": "code",
   "execution_count": 7,
   "id": "d26f8877",
   "metadata": {},
   "outputs": [
    {
     "name": "stdout",
     "output_type": "stream",
     "text": [
      "File exists, size: 15 bytes\n",
      "File contents:\n",
      "Heello , wekkvf\n"
     ]
    }
   ],
   "source": [
    "# Check if the file exists first\n",
    "import os\n",
    "if os.path.exists(\"treasure.txt\"):\n",
    "    print(f\"File exists, size: {os.path.getsize('treasure.txt')} bytes\")\n",
    "    with open(\"treasure.txt\", \"r\") as file:\n",
    "        contents = file.read()\n",
    "        print(\"File contents:\")\n",
    "        print(contents)\n",
    "else:\n",
    "    print(\"File 'treasure.txt' does not exist in the current directory\")\n",
    "    print(f\"Current working directory: {os.getcwd()}\")"
   ]
  },
  {
   "cell_type": "code",
   "execution_count": 12,
   "id": "10666293",
   "metadata": {},
   "outputs": [
    {
     "name": "stdout",
     "output_type": "stream",
     "text": [
      "   Duration  Pulse  Maxpulse  Calories\n",
      "0        60    110       130     409.1\n",
      "1        60    117       145     479.0\n",
      "2        60    103       135     340.0\n",
      "3        45    109       175     282.4\n",
      "4        45    117       148     406.0\n"
     ]
    }
   ],
   "source": [
    "import pandas as pd\n",
    "import numpy as np\n",
    "\n",
    "df =pd.read_csv('data.csv')\n",
    "print(df.head())\n"
   ]
  },
  {
   "cell_type": "code",
   "execution_count": 13,
   "id": "39f1ed0f",
   "metadata": {},
   "outputs": [
    {
     "name": "stdout",
     "output_type": "stream",
     "text": [
      "Matplotlib version: 3.10.3\n"
     ]
    }
   ],
   "source": [
    "import matplotlib as plt\n",
    "\n",
    "print(\"Matplotlib version:\", plt.__version__)"
   ]
  },
  {
   "cell_type": "code",
   "execution_count": null,
   "id": "97599613",
   "metadata": {
    "vscode": {
     "languageId": "markdown"
    }
   },
   "outputs": [],
   "source": [
    "# Short Notes on Pandas, Matplotlib, and NumPy\n",
    "\n",
    "## Pandas\n",
    "Pandas is a powerful Python library used for data manipulation and analysis. It provides data structures like Series (1D) and DataFrame (2D) for handling structured data. Key features include:\n",
    "- Easy handling of missing data.\n",
    "- Data filtering, grouping, and aggregation.\n",
    "- Reading and writing data from various file formats (CSV, Excel, SQL, etc.).\n",
    "\n",
    "## Matplotlib\n",
    "Matplotlib is a comprehensive library for creating static, interactive, and animated visualizations in Python. It is widely used for plotting graphs and charts. Key features include:\n",
    "- Support for various plot types (line, bar, scatter, histogram, etc.).\n",
    "- Customizable plots with labels, legends, and colors.\n",
    "- Integration with NumPy and Pandas for seamless data visualization.\n",
    "\n",
    "## NumPy\n",
    "NumPy is a fundamental library for numerical computing in Python. It provides support for multi-dimensional arrays and matrices, along with mathematical functions to operate on them. Key features include:\n",
    "- Efficient handling of large datasets.\n",
    "- Linear algebra, Fourier transform, and random number generation.\n",
    "- Basis for other libraries like Pandas and SciPy."
   ]
  },
  {
   "cell_type": "markdown",
   "id": "587a904e",
   "metadata": {},
   "source": [
    "# We have pandas, matplotlib, numpy\n"
   ]
  }
 ],
 "metadata": {
  "kernelspec": {
   "display_name": "myenv",
   "language": "python",
   "name": "python3"
  },
  "language_info": {
   "codemirror_mode": {
    "name": "ipython",
    "version": 3
   },
   "file_extension": ".py",
   "mimetype": "text/x-python",
   "name": "python",
   "nbconvert_exporter": "python",
   "pygments_lexer": "ipython3",
   "version": "3.13.2"
  }
 },
 "nbformat": 4,
 "nbformat_minor": 5
}
